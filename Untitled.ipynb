{
 "cells": [
  {
   "cell_type": "code",
   "execution_count": 15,
   "id": "98425913",
   "metadata": {},
   "outputs": [
    {
     "name": "stdout",
     "output_type": "stream",
     "text": [
      "                      Curriculum Vitae\n",
      "•••••••••••••••••••••••••••••••••••••••••••••••••••••••••••••\n",
      "Nama : Arya Putra Bayu Nanda\n",
      "Alamat : Jl. Adisucipto, GG. H. Saleh III\n",
      "Jenis Kelamin : Laki-Laki\n",
      "Negara : Indonesia\n",
      "Pendidikan Formal\n",
      "•••••••••••••••••••••••••••••••••••••••••••••••••••••••••••••\n",
      "\n",
      "• SD Negri 04 Pontianak\n",
      "• SMP Negri 14 Pontianak\n",
      "• SMA Negri 01 Sungai Raya\n",
      "• STMIK Pontianak\n",
      "\n",
      "•••••••••••••••••••••••••••••••••••••••••••••••••••••••••••••\n",
      "                   Pendidikan non Formal\n",
      "•••••••••••••••••••••••••••••••••••••••••••••••••••••••••••••\n",
      "\n",
      "• Tidak ada Pak\n",
      "\n",
      "•••••••••••••••••••••••••••••••••••••••••••••••••••••••••••••\n",
      "                        Organisasi\n",
      "•••••••••••••••••••••••••••••••••••••••••••••••••••••••••••••\n",
      "\n",
      "• Komunitas Vapor C4\n",
      "• Komunitas Extream (MLBB)\n",
      "\n",
      "•••••••••••••••••••••••••••••••••••••••••••••••••••••••••••••\n",
      "                          Prestasi\n",
      "•••••••••••••••••••••••••••••••••••••••••••••••••••••••••••••\n",
      "\n",
      "• Juara 3 Dalam MLBB Scrim B4 MTC\n",
      "• Juara 1 Dalam FF Scrim Live Youtube  \n",
      "• Bisa Memikat Wanita Mana Saja\n",
      "\n"
     ]
    }
   ],
   "source": [
    "data_cv = \"Curriculum Vitae\"\n",
    "nama = \"Arya Putra Bayu Nanda\"\n",
    "alamat = \"Jl. Adisucipto, GG. H. Saleh III\"\n",
    "jenis_kelamin = \"Laki-Laki\"\n",
    "negara = \"Indonesia\"\n",
    "pendidikan_formal = \"\"\"\n",
    "• SD Negri 04 Pontianak\n",
    "• SMP Negri 14 Pontianak\n",
    "• SMA Negri 01 Sungai Raya\n",
    "• STMIK Pontianak\n",
    "\"\"\"\n",
    "pendidikan_non_formal= \"\"\"\n",
    "• Tidak ada Pak\n",
    "\"\"\"\n",
    "organisasi = \"\"\"\n",
    "• Komunitas Vapor C4\n",
    "• Komunitas Extream (MLBB)\n",
    "\"\"\"\n",
    "prestasi = \"\"\"\n",
    "• Juara 3 Dalam MLBB Scrim B4 MTC\n",
    "• Juara 1 Dalam FF Scrim Live Youtube  \n",
    "• Bisa Memikat Wanita Mana Saja\n",
    "\"\"\"\n",
    "\n",
    "print('{:>38}'.format(data_cv))\n",
    "\n",
    "print(\"•••••••••••••••••••••••••••••••••••••••••••••••••••••••••••••\")\n",
    "\n",
    "print(\"Nama :\", nama)\n",
    "print(\"Alamat :\", alamat)\n",
    "print(\"Jenis Kelamin :\", jenis_kelamin)\n",
    "print(\"Negara :\", negara)\n",
    "\n",
    "print(\"Pendidikan Formal\")\n",
    "print(\"•••••••••••••••••••••••••••••••••••••••••••••••••••••••••••••\")\n",
    "print(pendidikan_formal)\n",
    "print(\"•••••••••••••••••••••••••••••••••••••••••••••••••••••••••••••\")\n",
    "\n",
    "print('{:>40}'.format(\"Pendidikan non Formal\"))\n",
    "print(\"•••••••••••••••••••••••••••••••••••••••••••••••••••••••••••••\")\n",
    "print(pendidikan_non_formal)\n",
    "print(\"•••••••••••••••••••••••••••••••••••••••••••••••••••••••••••••\")\n",
    "\n",
    "print('{:>34}'.format(\"Organisasi\"))\n",
    "print(\"•••••••••••••••••••••••••••••••••••••••••••••••••••••••••••••\")\n",
    "print(organisasi)\n",
    "print(\"•••••••••••••••••••••••••••••••••••••••••••••••••••••••••••••\")\n",
    "\n",
    "print('{:>34}'.format(\"Prestasi\"))\n",
    "print(\"•••••••••••••••••••••••••••••••••••••••••••••••••••••••••••••\")\n",
    "print(prestasi)\n"
   ]
  },
  {
   "cell_type": "code",
   "execution_count": 16,
   "id": "f74385e4",
   "metadata": {},
   "outputs": [
    {
     "name": "stdout",
     "output_type": "stream",
     "text": [
      "Lebar : 20\n",
      "Panjang :10\n",
      "Luas Persegi Panjang =  200\n"
     ]
    }
   ],
   "source": [
    "lebar = int(input(\"Lebar : \"))\n",
    "panjang = int(input(\"Panjang :\"))\n",
    "\n",
    "luas = panjang*lebar\n",
    "\n",
    "print (\"Luas Persegi Panjang = \",luas)"
   ]
  },
  {
   "cell_type": "code",
   "execution_count": 19,
   "id": "8349c313",
   "metadata": {},
   "outputs": [
    {
     "name": "stdout",
     "output_type": "stream",
     "text": [
      "Celcius : 10\n",
      "Celcius    : 10\n",
      "Fahrenheit : 50.0\n",
      "Reamur     : 8.0\n"
     ]
    }
   ],
   "source": [
    "celcius = int(input(\"Celcius : \"))\n",
    "reamur = celcius*0.8\n",
    "fahrenheit = celcius*1.8 + 32\n",
    "    \n",
    "print(\"Celcius    :\", celcius)\n",
    "print(\"Fahrenheit :\", fahrenheit)\n",
    "print(\"Reamur     :\", reamur)"
   ]
  },
  {
   "cell_type": "code",
   "execution_count": 21,
   "id": "7c79a696",
   "metadata": {},
   "outputs": [
    {
     "name": "stdout",
     "output_type": "stream",
     "text": [
      "Jumlah Detik :700000\n",
      "Hari  :  8\n",
      "Jam   :  2\n",
      "Menit :  27\n",
      "Detik :  40\n"
     ]
    }
   ],
   "source": [
    "detik = int(input(\"Jumlah Detik :\"))\n",
    "hari = detik/86400\n",
    "temp1 = detik%86400\n",
    "jam = temp1/3600\n",
    "temp2 = temp1%3600\n",
    "menit = temp2/60\n",
    "detik = temp2%60\n",
    "print (\"Hari  : \",round(hari))\n",
    "print (\"Jam   : \",round(jam))\n",
    "print (\"Menit : \",round(menit))\n",
    "print (\"Detik : \",round(detik))"
   ]
  },
  {
   "cell_type": "code",
   "execution_count": 22,
   "id": "76ed09ea",
   "metadata": {},
   "outputs": [
    {
     "name": "stdout",
     "output_type": "stream",
     "text": [
      "Panjang jari-jari :20\n",
      "Luas Lingkaran : 1257.142857142857\n"
     ]
    }
   ],
   "source": [
    "jari = int(input(\"Panjang jari-jari :\"))\n",
    "phi = 22/7\n",
    "luas = float(phi*jari**2)\n",
    "print (\"Luas Lingkaran :\", luas)"
   ]
  },
  {
   "cell_type": "code",
   "execution_count": null,
   "id": "5306fc13",
   "metadata": {},
   "outputs": [],
   "source": []
  }
 ],
 "metadata": {
  "kernelspec": {
   "display_name": "Python 3",
   "language": "python",
   "name": "python3"
  },
  "language_info": {
   "codemirror_mode": {
    "name": "ipython",
    "version": 3
   },
   "file_extension": ".py",
   "mimetype": "text/x-python",
   "name": "python",
   "nbconvert_exporter": "python",
   "pygments_lexer": "ipython3",
   "version": "3.8.8"
  }
 },
 "nbformat": 4,
 "nbformat_minor": 5
}
